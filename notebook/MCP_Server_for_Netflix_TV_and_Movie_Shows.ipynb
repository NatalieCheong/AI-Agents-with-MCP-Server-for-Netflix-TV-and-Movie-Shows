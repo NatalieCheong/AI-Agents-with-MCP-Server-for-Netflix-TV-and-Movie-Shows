{
  "nbformat": 4,
  "nbformat_minor": 0,
  "metadata": {
    "colab": {
      "provenance": []
    },
    "kernelspec": {
      "name": "python3",
      "display_name": "Python 3"
    },
    "language_info": {
      "name": "python"
    }
  },
  "cells": [
    {
      "cell_type": "code",
      "source": [
        "!pip install -q mcp"
      ],
      "metadata": {
        "colab": {
          "base_uri": "https://localhost:8080/"
        },
        "id": "KFQoM6gEnIGc",
        "outputId": "7df46f45-3fcd-4983-88b6-aa1e2452e855"
      },
      "execution_count": 1,
      "outputs": [
        {
          "output_type": "stream",
          "name": "stdout",
          "text": [
            "\u001b[?25l   \u001b[90m━━━━━━━━━━━━━━━━━━━━━━━━━━━━━━━━━━━━━━━━\u001b[0m \u001b[32m0.0/130.2 kB\u001b[0m \u001b[31m?\u001b[0m eta \u001b[36m-:--:--\u001b[0m\r\u001b[2K   \u001b[90m━━━━━━━━━━━━━━━━━━━━━━━━━━━━━━━━━━━━━━━━\u001b[0m \u001b[32m130.2/130.2 kB\u001b[0m \u001b[31m10.8 MB/s\u001b[0m eta \u001b[36m0:00:00\u001b[0m\n",
            "\u001b[?25h\u001b[?25l   \u001b[90m━━━━━━━━━━━━━━━━━━━━━━━━━━━━━━━━━━━━━━━━\u001b[0m \u001b[32m0.0/44.4 kB\u001b[0m \u001b[31m?\u001b[0m eta \u001b[36m-:--:--\u001b[0m\r\u001b[2K   \u001b[90m━━━━━━━━━━━━━━━━━━━━━━━━━━━━━━━━━━━━━━━━\u001b[0m \u001b[32m44.4/44.4 kB\u001b[0m \u001b[31m3.7 MB/s\u001b[0m eta \u001b[36m0:00:00\u001b[0m\n",
            "\u001b[?25h"
          ]
        }
      ]
    },
    {
      "cell_type": "code",
      "source": [
        "!pip install -q openai"
      ],
      "metadata": {
        "id": "kbW8spuWnMH7"
      },
      "execution_count": 2,
      "outputs": []
    },
    {
      "cell_type": "code",
      "source": [
        "!pip install -q fastmcp"
      ],
      "metadata": {
        "colab": {
          "base_uri": "https://localhost:8080/"
        },
        "id": "YwloBX7aphsr",
        "outputId": "b0dd05a1-3b21-4aa9-a133-f4b13e65d194"
      },
      "execution_count": 3,
      "outputs": [
        {
          "output_type": "stream",
          "name": "stdout",
          "text": [
            "\u001b[?25l   \u001b[90m━━━━━━━━━━━━━━━━━━━━━━━━━━━━━━━━━━━━━━━━\u001b[0m \u001b[32m0.0/138.2 kB\u001b[0m \u001b[31m?\u001b[0m eta \u001b[36m-:--:--\u001b[0m\r\u001b[2K   \u001b[90m━━━━━━━━━━━━━━━━━━━━━━━━━━━━━━━━━━━━━━━━\u001b[0m \u001b[32m138.2/138.2 kB\u001b[0m \u001b[31m11.7 MB/s\u001b[0m eta \u001b[36m0:00:00\u001b[0m\n",
            "\u001b[?25h\u001b[?25l   \u001b[90m━━━━━━━━━━━━━━━━━━━━━━━━━━━━━━━━━━━━━━━━\u001b[0m \u001b[32m0.0/240.0 kB\u001b[0m \u001b[31m?\u001b[0m eta \u001b[36m-:--:--\u001b[0m\r\u001b[2K   \u001b[90m━━━━━━━━━━━━━━━━━━━━━━━━━━━━━━━━━━━━━━━━\u001b[0m \u001b[32m240.0/240.0 kB\u001b[0m \u001b[31m20.6 MB/s\u001b[0m eta \u001b[36m0:00:00\u001b[0m\n",
            "\u001b[?25h\u001b[?25l   \u001b[90m━━━━━━━━━━━━━━━━━━━━━━━━━━━━━━━━━━━━━━━━\u001b[0m \u001b[32m0.0/96.4 kB\u001b[0m \u001b[31m?\u001b[0m eta \u001b[36m-:--:--\u001b[0m\r\u001b[2K   \u001b[90m━━━━━━━━━━━━━━━━━━━━━━━━━━━━━━━━━━━━━━━━\u001b[0m \u001b[32m96.4/96.4 kB\u001b[0m \u001b[31m8.8 MB/s\u001b[0m eta \u001b[36m0:00:00\u001b[0m\n",
            "\u001b[?25h"
          ]
        }
      ]
    },
    {
      "cell_type": "code",
      "source": [
        "!pip install -q pydantic"
      ],
      "metadata": {
        "id": "1sV_W1zMnOdh"
      },
      "execution_count": 4,
      "outputs": []
    },
    {
      "cell_type": "code",
      "source": [
        "import os\n",
        "import getpass\n",
        "\n",
        "os.environ[\"OPENAI_API_KEY\"] = getpass.getpass()"
      ],
      "metadata": {
        "colab": {
          "base_uri": "https://localhost:8080/"
        },
        "id": "OQ9h_RMQn94e",
        "outputId": "e3649b78-479e-4ccb-9cfd-2cd03b928b51"
      },
      "execution_count": 5,
      "outputs": [
        {
          "name": "stdout",
          "output_type": "stream",
          "text": [
            "··········\n"
          ]
        }
      ]
    },
    {
      "cell_type": "code",
      "source": [
        "# 9. Test the system\n",
        "print(\"🎬 Netflix MCP Application Setup Complete!\")\n",
        "print(\"=\" * 50)\n",
        "print(\"✅ You can now run:\")\n",
        "print(\"   • python mcp_application.py --test    # Run tests\")\n",
        "print(\"   • python mcp_application.py --info    # Show info\")\n",
        "print(\"   • python mcp_application.py --start   # Start app\")\n",
        "print(\"=\" * 50)\n",
        "\n",
        "# 10. Quick test to verify everything works\n",
        "try:\n",
        "    # Test imports\n",
        "    import asyncio\n",
        "    import nest_asyncio\n",
        "    nest_asyncio.apply()\n",
        "\n",
        "    # Test your existing modules\n",
        "    from multi_agents_fastmcp import test_netflix_multi_agents\n",
        "    from guardrail_fastmcp import test_guardrail_system\n",
        "\n",
        "    print(\"✅ All imports successful!\")\n",
        "    print(\"🚀 Ready to run Netflix MCP Application in Google Colab!\")\n",
        "\n",
        "except ImportError as e:\n",
        "    print(f\"❌ Import error: {e}\")\n",
        "    print(\"📝 Make sure all files are uploaded to the correct directories\")"
      ],
      "metadata": {
        "colab": {
          "base_uri": "https://localhost:8080/"
        },
        "id": "yGFAamrkrUnJ",
        "outputId": "f02beac4-8131-40f0-c2dd-c88982cccba3"
      },
      "execution_count": 7,
      "outputs": [
        {
          "output_type": "stream",
          "name": "stdout",
          "text": [
            "🎬 Netflix MCP Application Setup Complete!\n",
            "==================================================\n",
            "✅ You can now run:\n",
            "   • python mcp_application.py --test    # Run tests\n",
            "   • python mcp_application.py --info    # Show info\n",
            "   • python mcp_application.py --start   # Start app\n",
            "==================================================\n",
            "✅ All imports successful!\n",
            "🚀 Ready to run Netflix MCP Application in Google Colab!\n"
          ]
        }
      ]
    },
    {
      "cell_type": "code",
      "source": [
        "# In Google Colab - Test everything\n",
        "!python mcp_application.py --test\n",
        "!python mcp_application.py --info\n",
        "!python mcp_application.py --start"
      ],
      "metadata": {
        "colab": {
          "base_uri": "https://localhost:8080/"
        },
        "id": "5B7aSMMzwCdE",
        "outputId": "c2f5be45-2e5c-45f4-fd61-3b645cbc4cbd"
      },
      "execution_count": 12,
      "outputs": [
        {
          "output_type": "stream",
          "name": "stdout",
          "text": [
            "🎬 Netflix MCP Application - Google Colab Compatible\n",
            "🚀 Building an Application with MCP\n",
            "============================================================\n",
            "Usage:\n",
            "  python mcp_application.py --start    # Start the application\n",
            "  python mcp_application.py --info     # Show application info\n",
            "  python mcp_application.py --config   # Generate Claude config\n",
            "  python mcp_application.py --test     # Run tests\n",
            "============================================================\n",
            "✅ Google Colab environment detected and configured\n",
            "2025-06-19 11:00:40,135 - netflix-mcp-app - INFO - 🎬 Initializing Netflix Business Intelligence MCP\n",
            "2025-06-19 11:00:40,135 - netflix-mcp-app - INFO - 💬 Setting up MCP Prompts...\n",
            "2025-06-19 11:00:40,135 - netflix-mcp-app - INFO - ✅ 4 MCP Prompts configured\n",
            "2025-06-19 11:00:40,135 - netflix-mcp-app - INFO - 📁 Setting up MCP Resources...\n",
            "2025-06-19 11:00:40,135 - netflix-mcp-app - INFO - ✅ 5 MCP Resources configured\n",
            "2025-06-19 11:00:40,135 - netflix-mcp-app - INFO - 🧪 Running Comprehensive MCP Application Test\n",
            "2025-06-19 11:00:40,135 - netflix-mcp-app - INFO - ============================================================\n",
            "2025-06-19 11:00:40,135 - netflix-mcp-app - INFO - 1️⃣ Testing MCP Server availability...\n",
            "2025-06-19 11:00:40,135 - netflix-mcp-app - INFO -    ❌ FAILED\n",
            "2025-06-19 11:00:40,135 - netflix-mcp-app - INFO - 2️⃣ Testing MCP Client initialization...\n",
            "2025-06-19 11:00:40,135 - netflix-mcp-app - INFO -    ❌ FAILED\n",
            "2025-06-19 11:00:40,135 - netflix-mcp-app - INFO - 3️⃣ Testing Prompts configuration...\n",
            "2025-06-19 11:00:40,136 - netflix-mcp-app - INFO -    ✅ PASSED - 4 prompts loaded\n",
            "2025-06-19 11:00:40,136 - netflix-mcp-app - INFO - 4️⃣ Testing Resources configuration...\n",
            "2025-06-19 11:00:40,136 - netflix-mcp-app - INFO -    ✅ PASSED - 5 resources loaded\n",
            "2025-06-19 11:00:40,136 - netflix-mcp-app - INFO - 5️⃣ Testing Dataset availability...\n",
            "2025-06-19 11:00:40,136 - netflix-mcp-app - INFO -    ✅ PASSED\n",
            "2025-06-19 11:00:40,136 - netflix-mcp-app - INFO - 6️⃣ Testing Business Intelligence...\n",
            "2025-06-19 11:00:40,510 - numexpr.utils - INFO - NumExpr defaulting to 2 threads.\n",
            "✅ MCP imports successful\n",
            "✅ Multi-agents system loaded successfully\n",
            "✅ Guardrail system loaded successfully\n",
            "🔒 Netflix Content Guardrail System v2.0.0 initialized\n",
            "2025-06-19 11:00:42,201 - netflix-mcp-server - INFO - Loading Netflix dataset...\n",
            "2025-06-19 11:00:42,282 - netflix-mcp-server - INFO - Loaded 8807 titles from Netflix dataset\n",
            "2025-06-19 11:00:42,314 - netflix-mcp-server - INFO - Data cleaning complete! Final dataset: 8807 titles\n",
            "🎬 Netflix Multi-Agent System Processing: Test query\n",
            "2025-06-19 11:00:44,675 - httpx - INFO - HTTP Request: POST https://api.openai.com/v1/chat/completions \"HTTP/1.1 200 OK\"\n",
            "✅ Multi-agent processing complete\n",
            "2025-06-19 11:00:44,679 - netflix-mcp-server - INFO - Multi-agent insights obtained: 859 characters\n",
            "🔒 Netflix Content Guardrail System v2.0.0 initialized\n",
            "🔒 Running Netflix guardrail evaluation...\n",
            "--------------------------------------------------\n",
            "2025-06-19 11:00:45,899 - httpx - INFO - HTTP Request: POST https://api.openai.com/v1/chat/completions \"HTTP/1.1 200 OK\"\n",
            "🔒 Safety Check: ✅ PASSED (Score: 0.90)\n",
            "2025-06-19 11:00:48,644 - httpx - INFO - HTTP Request: POST https://api.openai.com/v1/chat/completions \"HTTP/1.1 200 OK\"\n",
            "📊 Quality Check: ✅ PASSED (Score: 0.80)\n",
            "2025-06-19 11:00:53,050 - httpx - INFO - HTTP Request: POST https://api.openai.com/v1/chat/completions \"HTTP/1.1 200 OK\"\n",
            "💼 Business Check: ✅ PASSED (Score: 0.80)\n",
            "2025-06-19 11:00:54,476 - httpx - INFO - HTTP Request: POST https://api.openai.com/v1/chat/completions \"HTTP/1.1 200 OK\"\n",
            "🌍 Bias Check: ❌ FAILED (Score: 0.30)\n",
            "--------------------------------------------------\n",
            "🎯 Overall Score: 0.70\n",
            "🚦 Passed All Guardrails: ❌ NO\n",
            "2025-06-19 11:00:54,477 - netflix-mcp-app - INFO -    ✅ PASSED\n",
            "2025-06-19 11:00:54,477 - netflix-mcp-app - INFO - 7️⃣ Testing Multi-Agent System...\n",
            "2025-06-19 11:00:54,477 - netflix-mcp-app - INFO -    ❌ FAILED\n",
            "2025-06-19 11:00:54,477 - netflix-mcp-app - INFO - 8️⃣ Testing Guardrail System...\n",
            "2025-06-19 11:00:54,478 - netflix-mcp-app - INFO -    ❌ FAILED\n",
            "2025-06-19 11:00:54,478 - netflix-mcp-app - INFO - \n",
            "📊 Test Results: 4/8 passed (50.0%)\n",
            "2025-06-19 11:00:54,478 - netflix-mcp-app - INFO -    ❌ FAILED: MCP Server\n",
            "2025-06-19 11:00:54,478 - netflix-mcp-app - INFO -    ❌ FAILED: MCP Client\n",
            "2025-06-19 11:00:54,478 - netflix-mcp-app - INFO -    ✅ PASSED: Prompts\n",
            "2025-06-19 11:00:54,478 - netflix-mcp-app - INFO -    ✅ PASSED: Resources\n",
            "2025-06-19 11:00:54,478 - netflix-mcp-app - INFO -    ✅ PASSED: Dataset\n",
            "2025-06-19 11:00:54,478 - netflix-mcp-app - INFO -    ✅ PASSED: Business Intelligence\n",
            "2025-06-19 11:00:54,478 - netflix-mcp-app - INFO -    ❌ FAILED: Multi-Agent System\n",
            "2025-06-19 11:00:54,478 - netflix-mcp-app - INFO -    ❌ FAILED: Guardrail System\n",
            "2025-06-19 11:00:54,478 - netflix-mcp-app - INFO - ⚠️ SOME TESTS FAILED! MCP Application needs attention!\n",
            "🎬 Netflix MCP Application - Google Colab Compatible\n",
            "🚀 Building an Application with MCP\n",
            "============================================================\n",
            "Usage:\n",
            "  python mcp_application.py --start    # Start the application\n",
            "  python mcp_application.py --info     # Show application info\n",
            "  python mcp_application.py --config   # Generate Claude config\n",
            "  python mcp_application.py --test     # Run tests\n",
            "============================================================\n",
            "✅ Google Colab environment detected and configured\n",
            "🎬 Netflix MCP Application Information\n",
            "============================================================\n",
            "📊 Features:\n",
            "   • Enhanced Business Intelligence with real Netflix data\n",
            "   • Multi-Agent system with 5 specialized agents\n",
            "   • Content safety and quality guardrails\n",
            "   • Personalized content recommendations\n",
            "   • Competitive analysis and market insights\n",
            "   • Interactive prompts and resource management\n",
            "   • Google Colab compatible\n",
            "   • Claude Desktop integration ready\n",
            "\n",
            "🔧 Google Colab Setup:\n",
            "   • Upload all Python files to /content/\n",
            "   • Mount Google Drive for Netflix dataset\n",
            "   • Install dependencies: pip install mcp pandas numpy openai\n",
            "   • Run: python mcp_application.py --start\n",
            "\n",
            "🤖 Available Agents:\n",
            "   • Content Discovery Agent - Find movies and shows\n",
            "   • Analytics Specialist Agent - Analyze trends and data\n",
            "   • Recommendation Engine Agent - Personalized suggestions\n",
            "   • Customer Support Agent - Help with Netflix features\n",
            "   • Content Strategy Agent - Business strategy insights\n",
            "============================================================\n",
            "🎬 Netflix MCP Application - Google Colab Compatible\n",
            "🚀 Building an Application with MCP\n",
            "============================================================\n",
            "Usage:\n",
            "  python mcp_application.py --start    # Start the application\n",
            "  python mcp_application.py --info     # Show application info\n",
            "  python mcp_application.py --config   # Generate Claude config\n",
            "  python mcp_application.py --test     # Run tests\n",
            "============================================================\n",
            "✅ Google Colab environment detected and configured\n",
            "2025-06-19 11:00:55,150 - netflix-mcp-app - INFO - 🎬 Initializing Netflix Business Intelligence MCP\n",
            "2025-06-19 11:00:55,150 - netflix-mcp-app - INFO - 🚀 Starting Netflix MCP Application...\n",
            "2025-06-19 11:00:55,150 - netflix-mcp-app - INFO - ============================================================\n",
            "2025-06-19 11:00:55,150 - netflix-mcp-app - INFO - 💬 Setting up MCP Prompts...\n",
            "2025-06-19 11:00:55,150 - netflix-mcp-app - INFO - ✅ 4 MCP Prompts configured\n",
            "2025-06-19 11:00:55,150 - netflix-mcp-app - INFO - 📁 Setting up MCP Resources...\n",
            "2025-06-19 11:00:55,151 - netflix-mcp-app - INFO - ✅ 5 MCP Resources configured\n",
            "2025-06-19 11:00:55,151 - netflix-mcp-app - INFO - 🔧 Initializing MCP Server...\n",
            "2025-06-19 11:00:55,392 - numexpr.utils - INFO - NumExpr defaulting to 2 threads.\n",
            "✅ MCP imports successful\n",
            "✅ Multi-agents system loaded successfully\n",
            "✅ Guardrail system loaded successfully\n",
            "🔒 Netflix Content Guardrail System v2.0.0 initialized\n",
            "2025-06-19 11:00:56,828 - netflix-mcp-server - INFO - Loading Netflix dataset...\n",
            "2025-06-19 11:00:56,905 - netflix-mcp-server - INFO - Loaded 8807 titles from Netflix dataset\n",
            "2025-06-19 11:00:56,935 - netflix-mcp-server - INFO - Data cleaning complete! Final dataset: 8807 titles\n",
            "2025-06-19 11:00:56,935 - netflix-mcp-app - INFO - ✅ MCP Server module imported successfully\n",
            "2025-06-19 11:00:56,935 - netflix-mcp-server - INFO - 🧪 Testing Netflix MCP Server functionality...\n",
            "2025-06-19 11:00:56,935 - netflix-mcp-server - INFO - 🔍 Testing query: What percentage of Netflix content is Korean?\n",
            "🎬 Netflix Multi-Agent System Processing: What percentage of Netflix content is Korean?\n",
            "2025-06-19 11:00:58,270 - httpx - INFO - HTTP Request: POST https://api.openai.com/v1/chat/completions \"HTTP/1.1 200 OK\"\n",
            "✅ Multi-agent processing complete\n",
            "2025-06-19 11:00:58,274 - netflix-mcp-server - INFO - Multi-agent insights obtained: 1003 characters\n",
            "🔒 Netflix Content Guardrail System v2.0.0 initialized\n",
            "🔒 Running Netflix guardrail evaluation...\n",
            "--------------------------------------------------\n",
            "2025-06-19 11:01:00,057 - httpx - INFO - HTTP Request: POST https://api.openai.com/v1/chat/completions \"HTTP/1.1 200 OK\"\n",
            "🔒 Safety Check: ✅ PASSED (Score: 0.90)\n",
            "2025-06-19 11:01:02,724 - httpx - INFO - HTTP Request: POST https://api.openai.com/v1/chat/completions \"HTTP/1.1 200 OK\"\n",
            "📊 Quality Check: ✅ PASSED (Score: 0.80)\n",
            "2025-06-19 11:01:05,964 - httpx - INFO - HTTP Request: POST https://api.openai.com/v1/chat/completions \"HTTP/1.1 200 OK\"\n",
            "💼 Business Check: ❌ FAILED (Score: 0.20)\n",
            "2025-06-19 11:01:07,589 - httpx - INFO - HTTP Request: POST https://api.openai.com/v1/chat/completions \"HTTP/1.1 200 OK\"\n",
            "🌍 Bias Check: ❌ FAILED (Score: 0.30)\n",
            "--------------------------------------------------\n",
            "🎯 Overall Score: 0.55\n",
            "🚦 Passed All Guardrails: ❌ NO\n",
            "2025-06-19 11:01:07,591 - netflix-mcp-server - INFO - ✅ Result: success\n",
            "2025-06-19 11:01:07,591 - netflix-mcp-server - INFO - 💡 Answer: 2.62% of Netflix content is Korean (231 out of 8807 titles)\n",
            "2025-06-19 11:01:07,591 - netflix-mcp-server - INFO - 🔍 Testing query: What are the most popular genres globally?\n",
            "🎬 Netflix Multi-Agent System Processing: What are the most popular genres globally?\n",
            "2025-06-19 11:01:08,966 - httpx - INFO - HTTP Request: POST https://api.openai.com/v1/chat/completions \"HTTP/1.1 200 OK\"\n",
            "✅ Multi-agent processing complete\n",
            "2025-06-19 11:01:08,968 - netflix-mcp-server - INFO - Multi-agent insights obtained: 972 characters\n",
            "🔒 Netflix Content Guardrail System v2.0.0 initialized\n",
            "🔒 Running Netflix guardrail evaluation...\n",
            "--------------------------------------------------\n",
            "2025-06-19 11:01:10,929 - httpx - INFO - HTTP Request: POST https://api.openai.com/v1/chat/completions \"HTTP/1.1 200 OK\"\n",
            "🔒 Safety Check: ✅ PASSED (Score: 0.90)\n",
            "2025-06-19 11:01:12,860 - httpx - INFO - HTTP Request: POST https://api.openai.com/v1/chat/completions \"HTTP/1.1 200 OK\"\n",
            "📊 Quality Check: ✅ PASSED (Score: 0.80)\n",
            "2025-06-19 11:01:17,186 - httpx - INFO - HTTP Request: POST https://api.openai.com/v1/chat/completions \"HTTP/1.1 200 OK\"\n",
            "💼 Business Check: ✅ PASSED (Score: 0.80)\n",
            "2025-06-19 11:01:19,063 - httpx - INFO - HTTP Request: POST https://api.openai.com/v1/chat/completions \"HTTP/1.1 200 OK\"\n",
            "🌍 Bias Check: ❌ FAILED (Score: 0.30)\n",
            "--------------------------------------------------\n",
            "🎯 Overall Score: 0.70\n",
            "🚦 Passed All Guardrails: ❌ NO\n",
            "2025-06-19 11:01:19,067 - netflix-mcp-server - INFO - ✅ Result: success\n",
            "2025-06-19 11:01:19,067 - netflix-mcp-server - INFO - 💡 Answer: Most popular genre globally is 'International Movies' with 2752 titles (31.2%)\n",
            "2025-06-19 11:01:19,067 - netflix-mcp-server - INFO - 🔍 Testing query: Show me the trend of international vs US content\n",
            "🎬 Netflix Multi-Agent System Processing: Show me the trend of international vs US content\n",
            "2025-06-19 11:01:33,983 - httpx - INFO - HTTP Request: POST https://api.openai.com/v1/chat/completions \"HTTP/1.1 200 OK\"\n",
            "✅ Multi-agent processing complete\n",
            "2025-06-19 11:01:33,985 - netflix-mcp-server - INFO - Multi-agent insights obtained: 3113 characters\n",
            "🔒 Netflix Content Guardrail System v2.0.0 initialized\n",
            "🔒 Running Netflix guardrail evaluation...\n",
            "--------------------------------------------------\n",
            "2025-06-19 11:01:35,531 - httpx - INFO - HTTP Request: POST https://api.openai.com/v1/chat/completions \"HTTP/1.1 200 OK\"\n",
            "🔒 Safety Check: ✅ PASSED (Score: 0.90)\n",
            "2025-06-19 11:01:37,891 - httpx - INFO - HTTP Request: POST https://api.openai.com/v1/chat/completions \"HTTP/1.1 200 OK\"\n",
            "📊 Quality Check: ✅ PASSED (Score: 0.80)\n",
            "2025-06-19 11:01:41,190 - httpx - INFO - HTTP Request: POST https://api.openai.com/v1/chat/completions \"HTTP/1.1 200 OK\"\n",
            "💼 Business Check: ✅ PASSED (Score: 0.80)\n",
            "2025-06-19 11:01:43,846 - httpx - INFO - HTTP Request: POST https://api.openai.com/v1/chat/completions \"HTTP/1.1 200 OK\"\n",
            "🌍 Bias Check: ❌ FAILED (Score: 0.30)\n",
            "--------------------------------------------------\n",
            "🎯 Overall Score: 0.70\n",
            "🚦 Passed All Guardrails: ❌ NO\n",
            "2025-06-19 11:01:43,847 - netflix-mcp-server - INFO - ✅ Result: success\n",
            "2025-06-19 11:01:43,847 - netflix-mcp-server - INFO - 💡 Answer: International content represents 58.1% of Netflix catalog (5117 out of 8807 titles)\n",
            "2025-06-19 11:01:43,847 - netflix-mcp-server - INFO - ✅ Standalone testing completed!\n",
            "2025-06-19 11:01:43,847 - netflix-mcp-app - INFO - ✅ MCP Server initialized successfully\n",
            "2025-06-19 11:01:43,847 - netflix-mcp-app - INFO - 🔧 Initializing MCP Client...\n",
            "2025-06-19 11:01:43,847 - netflix-mcp-app - WARNING - ⚠️ MCP Client libraries not available: cannot import name 'ClientSession' from 'mcp.client' (/usr/local/lib/python3.11/dist-packages/mcp/client/__init__.py)\n",
            "2025-06-19 11:01:43,848 - netflix-mcp-app - INFO - ✅ MCP Client initialized (mock mode for Colab)\n",
            "2025-06-19 11:01:43,848 - netflix-mcp-app - INFO - ✅ Netflix MCP Application started successfully!\n",
            "2025-06-19 11:01:43,848 - netflix-mcp-app - INFO - \n",
            "📊 Netflix MCP Application Status\n",
            "2025-06-19 11:01:43,848 - netflix-mcp-app - INFO - ==================================================\n",
            "2025-06-19 11:01:43,848 - netflix-mcp-app - INFO - 🔧 MCP Server: 🟢 Running\n",
            "2025-06-19 11:01:43,848 - netflix-mcp-app - INFO - 💻 MCP Client: 🟢 Ready\n",
            "2025-06-19 11:01:43,848 - netflix-mcp-app - INFO - 🔗 MCP Protocol: 🔴 Not Available (using fallback)\n",
            "2025-06-19 11:01:43,848 - netflix-mcp-app - INFO - 🤖 Multi-Agents: 🟢 Enabled\n",
            "2025-06-19 11:01:43,848 - netflix-mcp-app - INFO - 🔒 Guardrails: 🟢 Enabled\n",
            "2025-06-19 11:01:43,848 - netflix-mcp-app - INFO - 💬 Prompts: 🟢 Loaded (4 available)\n",
            "2025-06-19 11:01:43,848 - netflix-mcp-app - INFO - 📁 Resources: 🟢 Loaded (5 available)\n",
            "2025-06-19 11:01:43,848 - netflix-mcp-app - INFO - 📊 Dataset: 🟢 Available\n",
            "2025-06-19 11:01:43,849 - netflix-mcp-app - INFO -    Size: 3.2 MB\n",
            "2025-06-19 11:01:43,849 - netflix-mcp-app - INFO - ==================================================\n",
            "2025-06-19 11:01:43,849 - netflix-mcp-app - INFO - \n",
            "🎮 Netflix MCP Application - Interactive Mode\n",
            "2025-06-19 11:01:43,849 - netflix-mcp-app - INFO - ============================================================\n",
            "2025-06-19 11:01:43,849 - netflix-mcp-app - INFO - Available features:\n",
            "2025-06-19 11:01:43,849 - netflix-mcp-app - INFO -   1. Test Business Intelligence Query\n",
            "2025-06-19 11:01:43,849 - netflix-mcp-app - INFO -   2. Test Multi-Agent System (if available)\n",
            "2025-06-19 11:01:43,849 - netflix-mcp-app - INFO -   3. Test Guardrail System (if available)\n",
            "2025-06-19 11:01:43,849 - netflix-mcp-app - INFO -   4. View Available Prompts\n",
            "2025-06-19 11:01:43,849 - netflix-mcp-app - INFO -   5. View Available Resources\n",
            "2025-06-19 11:01:43,849 - netflix-mcp-app - INFO -   6. System Status\n",
            "2025-06-19 11:01:43,849 - netflix-mcp-app - INFO -   7. Run Comprehensive Test\n",
            "2025-06-19 11:01:43,849 - netflix-mcp-app - INFO -   8. Test Netflix Dataset Analysis\n",
            "2025-06-19 11:01:43,849 - netflix-mcp-app - INFO -   9. Generate Sample Queries\n",
            "2025-06-19 11:01:43,849 - netflix-mcp-app - INFO -   10. Exit Application\n",
            "2025-06-19 11:01:43,849 - netflix-mcp-app - INFO - ============================================================\n",
            "\n",
            "🎯 Select option (1-10): 10\n",
            "2025-06-19 11:02:29,527 - netflix-mcp-app - INFO - 👋 Shutting down Netflix MCP Application...\n"
          ]
        }
      ]
    }
  ]
}